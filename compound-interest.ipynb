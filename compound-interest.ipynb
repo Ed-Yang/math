{
 "cells": [
  {
   "cell_type": "markdown",
   "metadata": {},
   "source": [
    "math syntax\n",
    "\n",
    "http://nbviewer.jupyter.org/github/ipython/ipython/blob/4.0.x/examples/Notebook/Typesetting%20Equations.ipynb"
   ]
  },
  {
   "cell_type": "code",
   "execution_count": 15,
   "metadata": {},
   "outputs": [
    {
     "data": {
      "text/plain": [
       "1.0512710963760241"
      ]
     },
     "execution_count": 15,
     "metadata": {},
     "output_type": "execute_result"
    }
   ],
   "source": [
    "from numpy import *\n",
    "\n",
    "exp(0.05)"
   ]
  },
  {
   "cell_type": "markdown",
   "metadata": {},
   "source": [
    "# Definition of e\n",
    "\n",
    "\\begin{aligned}\n",
    "\\lim_{n \\to inf} (1 + \\frac{1}{n})^n = e\n",
    "\\end{aligned}"
   ]
  },
  {
   "cell_type": "markdown",
   "metadata": {},
   "source": [
    "L’Hôpital’s Rule簡易版證明\n",
    "\n",
    "\\begin{aligned}\n",
    "\\lim_{x \\to a} \n",
    "\\frac{f'(x)}{g'(x)} &= \n",
    "\\frac{f'(a)}{g'(a)} = \n",
    "\\frac{\n",
    "\\displaystyle\\lim_{x \\to a} \\dfrac{f(x) - f(a)}{x - a}}{\\displaystyle\\lim_{x \\to a} \\dfrac{g(x) - g(a)}{x - a}} \\\\\n",
    "&= \\lim_{x \\to a} \\frac{f(x) - f(a)}{g(x) - g(a)} \\\\\n",
    "&= \\lim_{x \\to a} \\frac{f(x)}{g(x)}\n",
    "\\end{aligned}"
   ]
  },
  {
   "cell_type": "markdown",
   "metadata": {},
   "source": [
    "# Deritative of 1/x\n",
    "\n",
    "\\begin{aligned}\n",
    "\\frac{d}{dx}ln(x)  =\n",
    "\\frac{1}{x}\n",
    "\\end{aligned}"
   ]
  },
  {
   "cell_type": "markdown",
   "metadata": {},
   "source": [
    "# Continuously conpounded interest (Khan)\n",
    "\n",
    "## Definition of e\n",
    "\n",
    "$\n",
    "\\begin{aligned}\n",
    "\\lim_{n \\to \\infty} (1 + \\frac{1}{n})^n = e\n",
    "\\end{aligned}\n",
    "$\n",
    "\n",
    "A: future value </cr>\n",
    "P: present value </cr>\n",
    "r: yearly rate </cr>\n",
    "n: compounded freq.</cr>\n",
    "\n",
    "\n",
    "$\n",
    "\\begin{aligned}\n",
    "A = P * \\lim_{n \\to \\infty} ({1 + \\frac{r}{n}})^{nt} \n",
    "\\end{aligned}\n",
    "$\n",
    "\n",
    "### Let x = n/r, then\n",
    "$\n",
    "\\begin{aligned}\n",
    "P * \\lim_{n \\to \\infty} ({1 + \\frac{r}{n}})^{nt} = \n",
    "P * \\lim_{x \\to \\infty} ({1 + \\frac{1}{x}})^{xrt} = \n",
    "P * (\\lim_{x \\to \\infty} ({1 + \\frac{1}{x}})^{x})^{rt} \n",
    "\\end{aligned}\n",
    "$\n",
    "\n",
    "$\n",
    "\\begin{aligned}\n",
    "A = P * e^{rt}\n",
    "\\end{aligned}\n",
    "$"
   ]
  },
  {
   "cell_type": "code",
   "execution_count": null,
   "metadata": {},
   "outputs": [],
   "source": []
  }
 ],
 "metadata": {
  "kernelspec": {
   "display_name": "Python 3",
   "language": "python",
   "name": "python3"
  },
  "language_info": {
   "codemirror_mode": {
    "name": "ipython",
    "version": 3
   },
   "file_extension": ".py",
   "mimetype": "text/x-python",
   "name": "python",
   "nbconvert_exporter": "python",
   "pygments_lexer": "ipython3",
   "version": "3.6.4"
  }
 },
 "nbformat": 4,
 "nbformat_minor": 2
}
